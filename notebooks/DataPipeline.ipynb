{
 "cells": [
  {
   "cell_type": "markdown",
   "metadata": {
    "id": "eYKSP7XgYE2z"
   },
   "source": [
    "# SafeNet: Data Pipeline"
   ]
  },
  {
   "cell_type": "code",
   "execution_count": null,
   "metadata": {
    "id": "uSqpAx_BYE21"
   },
   "outputs": [],
   "source": [
    "import os\n",
    "from PIL import Image, ImageDraw\n",
    "import matplotlib.pyplot as plt\n",
    "import  numpy as np\n",
    "import csv"
   ]
  },
  {
   "cell_type": "code",
   "execution_count": null,
   "metadata": {
    "id": "ZKLIySgdYE24"
   },
   "outputs": [],
   "source": [
    "%pip install -U albumentations"
   ]
  },
  {
   "cell_type": "code",
   "execution_count": null,
   "metadata": {
    "id": "wgkGYcLwYE24"
   },
   "outputs": [],
   "source": [
    "import albumentations as A"
   ]
  },
  {
   "cell_type": "code",
   "execution_count": null,
   "metadata": {
    "id": "YgW1AL3oYE2-"
   },
   "outputs": [],
   "source": [
    "def load_single_image(input_folder, mask_folder, input_filename, mask_filename):\n",
    "    input_path = os.path.join(input_folder, input_filename)\n",
    "    mask_path = os.path.join(mask_folder, mask_filename)\n",
    "    input_image = Image.open(input_path)\n",
    "    mask_image = Image.open(mask_path)\n",
    "    input_array = np.array(input_image)\n",
    "    mask_array = np.array(mask_image)\n",
    "\n",
    "    return input_array, mask_array"
   ]
  },
  {
   "cell_type": "code",
   "execution_count": null,
   "metadata": {
    "id": "beEXSQIuYE2_"
   },
   "outputs": [],
   "source": [
    "def load_data(input_folder, mask_folder, input_filenames, mask_filenames):\n",
    "    input_list = []\n",
    "    mask_list = []\n",
    "\n",
    "    for input_filename, mask_filename in zip(input_filenames, mask_filenames):\n",
    "        input_array, mask_array = load_single_image(input_folder, mask_folder, input_filename, mask_filename)\n",
    "        input_list.append(input_array)\n",
    "        mask_list.append(mask_array)\n",
    "\n",
    "    return np.array(input_list), np.array(mask_list)"
   ]
  },
  {
   "cell_type": "code",
   "execution_count": null,
   "metadata": {
    "id": "es4J7vz8YE2_"
   },
   "outputs": [],
   "source": [
    "transform = A.Compose([\n",
    "    A.Resize(600, 800),\n",
    "    A.RandomBrightnessContrast(p=1.),\n",
    "    A.HorizontalFlip(p=0.5),\n",
    "    A.VerticalFlip(p=0.5),\n",
    "    A.Rotate(limit=40)\n",
    "])"
   ]
  },
  {
   "cell_type": "code",
   "execution_count": null,
   "metadata": {
    "id": "_yZcpyXJYE3A"
   },
   "outputs": [],
   "source": [
    "resize = A.Compose([\n",
    "    A.Resize(600, 800),\n",
    "])"
   ]
  },
  {
   "cell_type": "code",
   "execution_count": null,
   "metadata": {
    "id": "q0Gju4j6YE3A"
   },
   "outputs": [],
   "source": [
    "def anchor_label_1D(img,mask,threshold,step,anchor_boxes):\n",
    "    TARGET_PIXEL_VALUES = np.array([0, 1, 2, 3, 5, 6, 7, 8])\n",
    "\n",
    "    height = img.shape[0]\n",
    "    width = img.shape[1]\n",
    "    num_boxes = len(anchor_boxes)\n",
    "\n",
    "    labels = np.zeros((height // step, width // step), dtype=int)\n",
    "    for i in range(num_boxes):\n",
    "        box = anchor_boxes[i]\n",
    "        b_w = box[1]\n",
    "        b_h = box[0]\n",
    "        for h in range(0,height, step):\n",
    "            cell_col = h // step\n",
    "            for w in range(0,width,step):\n",
    "                cell_row = w // step\n",
    "\n",
    "                window = mask[h: h + b_h, w: w + b_w]\n",
    "                pixel_count = np.isin(window, TARGET_PIXEL_VALUES).sum()\n",
    "                if pixel_count >= threshold * b_h * b_w:\n",
    "                    labels[cell_col][cell_row] = 1\n",
    "    flattened_labels = labels.ravel()\n",
    "    #print(flattened_labels)\n",
    "    return np.array(flattened_labels)\n"
   ]
  },
  {
   "cell_type": "code",
   "execution_count": null,
   "metadata": {
    "id": "F-lsu-BVYE3A"
   },
   "outputs": [],
   "source": [
    "def save_augmented_data(image_folder, mask_folder, num_augmentations, output_image_folder, output_mask_folder):\n",
    "\n",
    "    batch_size = 256\n",
    "    image_paths = sorted(os.listdir(image_folder))\n",
    "    #print(image_paths)\n",
    "    mask_paths = sorted(os.listdir(mask_folder))\n",
    "    #print(mask_paths)\n",
    "    print(f'Total Images: {len(image_paths)}')\n",
    "    print(f'Total Masks: {len(mask_paths)}')\n",
    "\n",
    "    total_images = 0\n",
    "    for start_idx in range(0, len(image_paths), batch_size):\n",
    "      end_idx = min(start_idx + batch_size, len(image_paths))\n",
    "      batch_image_paths = image_paths[start_idx:end_idx]\n",
    "      batch_mask_paths = mask_paths[start_idx:end_idx]\n",
    "\n",
    "      # Load data for the current batch\n",
    "      image_list, mask_list = load_data(image_folder, mask_folder, batch_image_paths, batch_mask_paths)\n",
    "      print(f'Processing batch {start_idx} to {end_idx}...')\n",
    "      for idx, (image, mask) in enumerate(zip(image_list, mask_list)):\n",
    "          global_idx = start_idx + idx  # Global index for naming\n",
    "          resized = resize(image=image, mask=mask)\n",
    "          resized_image = np.array(resized['image'])\n",
    "          resized_mask = np.array(resized['mask'])\n",
    "\n",
    "          image_path = os.path.join(output_image_folder, f\"image_{global_idx}_original.png\")\n",
    "          mask_path = os.path.join(output_mask_folder, f\"mask_{global_idx}_original.png\")\n",
    "          Image.fromarray(resized_image).convert('RGB').save(image_path)\n",
    "          Image.fromarray(resized_mask).convert('L').save(mask_path)\n",
    "\n",
    "          total_images += 1\n",
    "\n",
    "          for aug_idx in range(num_augmentations):\n",
    "              transformed = transform(image=image, mask=mask)\n",
    "              transformed_image = np.array(transformed['image'])\n",
    "              transformed_mask = np.array(transformed['mask'])\n",
    "\n",
    "              aug_image_path = os.path.join(output_image_folder, f\"image_{global_idx}_aug_{aug_idx}.png\")\n",
    "              aug_mask_path = os.path.join(output_mask_folder, f\"mask_{global_idx}_aug_{aug_idx}.png\")\n",
    "\n",
    "\n",
    "              Image.fromarray(transformed_image).convert('RGB').save(aug_image_path)\n",
    "              Image.fromarray(transformed_mask).convert('L').save(aug_mask_path)\n",
    "\n",
    "              total_images += 1\n",
    "\n",
    "    print(f'Final Number of Images: {total_images}')"
   ]
  },
  {
   "cell_type": "code",
   "execution_count": null,
   "metadata": {
    "id": "oNh8W88RYE3A"
   },
   "outputs": [],
   "source": [
    "def labels_to_csv(img_folder, mask_folder, csv_file, threshold, step, anchor_boxes):\n",
    "    with open(csv_file, mode='w', newline='') as file:\n",
    "        writer = csv.writer(file)\n",
    "\n",
    "        for image, mask in zip(os.listdir(img_folder), os.listdir(mask_folder)):\n",
    "            image_path = os.path.join(img_folder, image)\n",
    "            mask_path = os.path.join(mask_folder, mask)\n",
    "\n",
    "            img_array, mask_array = load_single_image(img_folder,mask_folder,image_path,mask_path)\n",
    "\n",
    "            anchor_label = anchor_label_1D(img_array, mask_array, threshold, step, anchor_boxes)\n",
    "\n",
    "            writer.writerow([image] + anchor_label.tolist())\n",
    "\n",
    "    print(f'Labels have been saved to {csv_file}')"
   ]
  },
  {
   "cell_type": "code",
   "execution_count": null,
   "metadata": {
    "id": "_7kKEEMgYE3B"
   },
   "outputs": [],
   "source": [
    "def get_labels(csv_file):\n",
    "    labels = []\n",
    "    with open(csv_file, mode='r') as file:\n",
    "        reader = csv.reader(file)\n",
    "        for row in reader:\n",
    "           label = np.array(row[1:], dtype=int)\n",
    "           labels.append(label)\n",
    "\n",
    "    return np.array(labels)\n"
   ]
  },
  {
   "cell_type": "markdown",
   "metadata": {
    "id": "yPEuVIqRYE3B"
   },
   "source": [
    "## Data Pipeline"
   ]
  },
  {
   "cell_type": "code",
   "execution_count": null,
   "metadata": {
    "id": "sUQb9C6zYE3B"
   },
   "outputs": [],
   "source": [
    "from google.colab import drive\n",
    "drive.mount('/content/drive')"
   ]
  },
  {
   "cell_type": "code",
   "execution_count": null,
   "metadata": {
    "id": "KvtcofZAYE3B"
   },
   "outputs": [],
   "source": [
    "%%capture\n",
    "#Training data\n",
    "!unzip '' -d '/content/train_imgs'\n",
    "!unzip '' -d '/content/train_masks'\n",
    "\n",
    "#Val data\n",
    "!unzip '' -d '/content/val_imgs'\n",
    "!unzip '' -d '/content/val_masks'\n",
    "\n",
    "#Test data\n",
    "!unzip '' -d '/content/test_imgs'\n",
    "!unzip '' -d '/content/test_masks'\n"
   ]
  },
  {
   "cell_type": "code",
   "execution_count": null,
   "metadata": {
    "id": "GOjfgc5hYE3B"
   },
   "outputs": [],
   "source": [
    "train_imgs = ''\n",
    "train_masks = ''\n",
    "\n",
    "output_imgs = ''\n",
    "output_masks = ''\n",
    "\n",
    "label_file = ''\n",
    "\n",
    "augmentations = 4\n",
    "save_augmented_data(train_imgs,train_masks,augmentations,output_imgs,output_masks)\n",
    "\n",
    "step = 10\n",
    "threshold = 0.2\n",
    "ANCHOR_BOXES = np.array([\n",
    "    [50,50],\n",
    "])\n",
    "labels_to_csv(output_imgs,output_masks, label_file, threshold, step, ANCHOR_BOXES)\n",
    "\n",
    "labels = get_labels(label_file)\n",
    "print(labels.shape)\n"
   ]
  },
  {
   "cell_type": "code",
   "execution_count": null,
   "metadata": {
    "id": "RZUuDPQ7fvEt"
   },
   "outputs": [],
   "source": [
    "val_imgs = ''\n",
    "val_masks = ''\n",
    "\n",
    "output_imgs = ''\n",
    "output_masks = ''\n",
    "\n",
    "label_file = ''\n",
    "\n",
    "augmentations = 0\n",
    "save_augmented_data(val_imgs,val_masks,augmentations,output_imgs,output_masks)\n",
    "\n",
    "step = 10\n",
    "threshold = 0.2\n",
    "ANCHOR_BOXES = np.array([\n",
    "    [50,50],\n",
    "])\n",
    "labels_to_csv(output_imgs,output_masks, label_file, threshold, step, ANCHOR_BOXES)\n",
    "\n",
    "labels = get_labels(label_file)\n",
    "print(labels.shape)\n"
   ]
  },
  {
   "cell_type": "code",
   "execution_count": null,
   "metadata": {
    "id": "tYopKPzBin6Q"
   },
   "outputs": [],
   "source": [
    "test_imgs = ''\n",
    "test_masks = ''\n",
    "\n",
    "output_imgs = ''\n",
    "output_masks = ''\n",
    "\n",
    "label_file = ''\n",
    "\n",
    "augmentations = 0\n",
    "save_augmented_data(test_imgs,test_masks,augmentations,output_imgs,output_masks)\n",
    "\n",
    "step = 10\n",
    "threshold = 0.2\n",
    "ANCHOR_BOXES = np.array([\n",
    "    [50,50],\n",
    "])\n",
    "labels_to_csv(output_imgs,output_masks, label_file, threshold, step, ANCHOR_BOXES)\n",
    "\n",
    "labels = get_labels(label_file)\n",
    "print(labels.shape)"
   ]
  }
 ],
 "metadata": {
  "accelerator": "GPU",
  "colab": {
   "gpuType": "A100",
   "machine_shape": "hm",
   "provenance": []
  },
  "kernelspec": {
   "display_name": "Python 3",
   "name": "python3"
  },
  "language_info": {
   "codemirror_mode": {
    "name": "ipython",
    "version": 3
   },
   "file_extension": ".py",
   "mimetype": "text/x-python",
   "name": "python",
   "nbconvert_exporter": "python",
   "pygments_lexer": "ipython3",
   "version": "3.12.8"
  }
 },
 "nbformat": 4,
 "nbformat_minor": 0
}
